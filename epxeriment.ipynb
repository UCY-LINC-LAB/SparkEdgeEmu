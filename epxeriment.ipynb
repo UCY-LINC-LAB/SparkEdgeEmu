{
 "cells": [
  {
   "cell_type": "code",
   "execution_count": 2,
   "id": "d632986b",
   "metadata": {},
   "outputs": [],
   "source": [
    "from SparkEdgeEmuLib.connector import EmulatorConnector"
   ]
  },
  {
   "cell_type": "code",
   "execution_count": 3,
   "id": "21724a2c",
   "metadata": {},
   "outputs": [],
   "source": [
    "connector = EmulatorConnector(usecase='usecase.yaml')"
   ]
  },
  {
   "cell_type": "code",
   "execution_count": 4,
   "id": "a2ab30a1",
   "metadata": {},
   "outputs": [
    {
     "name": "stderr",
     "output_type": "stream",
     "text": [
      "Deploy process: 100%|██████████| 7/7 [00:05<00:00,  1.39it/s]\n"
     ]
    }
   ],
   "source": [
    "connector.deploy()"
   ]
  },
  {
   "cell_type": "code",
   "execution_count": 5,
   "id": "3747498e",
   "metadata": {},
   "outputs": [
    {
     "name": "stderr",
     "output_type": "stream",
     "text": [
      "23/08/22 06:58:21 WARN NativeCodeLoader: Unable to load native-hadoop library for your platform... using builtin-java classes where applicable\n",
      "Using Spark's default log4j profile: org/apache/spark/log4j-defaults.properties\n",
      "Setting default log level to \"WARN\".\n",
      "To adjust logging level use sc.setLogLevel(newLevel). For SparkR, use setLogLevel(newLevel).\n"
     ]
    }
   ],
   "source": [
    "spark = connector.create_spark_session(\"test\")"
   ]
  },
  {
   "cell_type": "code",
   "execution_count": 8,
   "id": "944d287f",
   "metadata": {},
   "outputs": [
    {
     "name": "stderr",
     "output_type": "stream",
     "text": [
      "                                                                                \r"
     ]
    }
   ],
   "source": [
    "with connector.timer():\n",
    "    for i in range(10):\n",
    "        df = spark.read.parquet(\"/data/fhvhv_tripdata_2023-01.parquet\")\n",
    "        df.groupBy(\"DOLocationID\").agg({'driver_pay':'avg'}).collect()\n",
    "        df.groupby('Hvfhs_license_num').agg({'*': 'count'}).collect()\n",
    "        df.agg({'tips': 'sum'}).collect()"
   ]
  },
  {
   "cell_type": "code",
   "execution_count": 9,
   "id": "b24279f8",
   "metadata": {},
   "outputs": [
    {
     "name": "stderr",
     "output_type": "stream",
     "text": [
      "/home/jovyan/work/project/SparkEdgeEmuLib/connector.py:313: UserWarning: Boolean Series key will be reindexed to match DataFrame index.\n",
      "  df = df[df.timestamp >= int(Timer.start.timestamp()) * 1000][\n",
      "/home/jovyan/work/project/SparkEdgeEmuLib/connector.py:313: UserWarning: Boolean Series key will be reindexed to match DataFrame index.\n",
      "  df = df[df.timestamp >= int(Timer.start.timestamp()) * 1000][\n",
      "/home/jovyan/work/project/SparkEdgeEmuLib/connector.py:313: UserWarning: Boolean Series key will be reindexed to match DataFrame index.\n",
      "  df = df[df.timestamp >= int(Timer.start.timestamp()) * 1000][\n",
      "/home/jovyan/work/project/SparkEdgeEmuLib/connector.py:313: UserWarning: Boolean Series key will be reindexed to match DataFrame index.\n",
      "  df = df[df.timestamp >= int(Timer.start.timestamp()) * 1000][\n",
      "/home/jovyan/work/project/SparkEdgeEmuLib/connector.py:313: UserWarning: Boolean Series key will be reindexed to match DataFrame index.\n",
      "  df = df[df.timestamp >= int(Timer.start.timestamp()) * 1000][\n",
      "/home/jovyan/work/project/SparkEdgeEmuLib/connector.py:313: UserWarning: Boolean Series key will be reindexed to match DataFrame index.\n",
      "  df = df[df.timestamp >= int(Timer.start.timestamp()) * 1000][\n",
      "/home/jovyan/work/project/SparkEdgeEmuLib/connector.py:313: UserWarning: Boolean Series key will be reindexed to match DataFrame index.\n",
      "  df = df[df.timestamp >= int(Timer.start.timestamp()) * 1000][\n"
     ]
    }
   ],
   "source": [
    "res = connector.get_metrics()"
   ]
  },
  {
   "cell_type": "code",
   "execution_count": 18,
   "id": "67174a80",
   "metadata": {},
   "outputs": [
    {
     "data": {
      "image/png": "[encoded data removed]",
      "text/plain": [
       "<Figure size 640x480 with 1 Axes>"
      ]
     },
     "metadata": {},
     "output_type": "display_data"
    }
   ],
   "source": [
    "import matplotlib.pyplot as plt\n",
    "xAxis = []\n",
    "yAxis = []\n",
    "name = \"tasks\"\n",
    "sorted_nodes = list(res.keys())\n",
    "sorted_nodes.sort()\n",
    "for node in sorted_nodes:\n",
    "    r = res[node]\n",
    "    xAxis.append(node)\n",
    "    \n",
    "    \n",
    "    if name == \"CPU utilization\":\n",
    "        val = r[r['cpu_util']>0].cpu_util.mean()\n",
    "    if name == \"tasks\":\n",
    "        r['tasks'] = -1*r.tasks.diff(periods=-1)\n",
    "        val = r[r['tasks']>0].tasks.sum()\n",
    "    if name == \"Network Traffic\":\n",
    "        val = (r.network_rx_edge_net + r.network_tx_edge_net).diff().sum()\n",
    "    if name == \"Duration Seconds\":\n",
    "        val = r.duration_seconds.diff().sum()\n",
    "    if name == \"Input Bytes\":\n",
    "        val = r.input_bytes.diff().sum()\n",
    "    if name == \"Shuffle Read\":\n",
    "        val = r.shuffle_read.diff().sum()\n",
    "    if name == \"Shuffle Write\":\n",
    "        val = r.shuffle_write.diff().sum()\n",
    "    if name == \"Used Memory\":\n",
    "        val = r.used_memory.take([-1]).item()\n",
    "    \n",
    "    yAxis.append(val)\n",
    "\n",
    "plt.bar(xAxis,yAxis)\n",
    "plt.title(f'{name} per node')\n",
    "plt.xlabel('Nodes')\n",
    "plt.ylabel(f'{name}')\n",
    "plt.show()"
   ]
  },
  {
   "cell_type": "code",
   "execution_count": 19,
   "id": "5db2f2ee",
   "metadata": {},
   "outputs": [
    {
     "name": "stderr",
     "output_type": "stream",
     "text": [
      "Undeploy process: 100%|██████████| 7/7 [00:15<00:00,  2.17s/it]\n"
     ]
    }
   ],
   "source": [
    "connector.undeploy()"
   ]
  }
 ],
 "metadata": {
  "kernelspec": {
   "display_name": "Python 3 (ipykernel)",
   "language": "python",
   "name": "python3"
  },
  "language_info": {
   "codemirror_mode": {
    "name": "ipython",
    "version": 3
   },
   "file_extension": ".py",
   "mimetype": "text/x-python",
   "name": "python",
   "nbconvert_exporter": "python",
   "pygments_lexer": "ipython3",
   "version": "3.9.2"
  }
 },
 "nbformat": 4,
 "nbformat_minor": 5
}
